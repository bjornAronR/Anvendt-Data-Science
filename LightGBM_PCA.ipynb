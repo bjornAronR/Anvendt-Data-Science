{
 "cells": [
  {
   "cell_type": "markdown",
   "metadata": {},
   "source": [
    "Import"
   ]
  },
  {
   "cell_type": "code",
   "execution_count": 9,
   "metadata": {},
   "outputs": [],
   "source": [
    "import numpy as np\n",
    "import pandas as pd\n",
    "import matplotlib.pyplot as plt\n",
    "import seaborn as sns\n",
    "from sklearn.model_selection import train_test_split\n",
    "from tqdm import tqdm_notebook as tqdm\n",
    "import sys\n",
    "sys.path.append(\"../input\")"
   ]
  },
  {
   "cell_type": "markdown",
   "metadata": {},
   "source": [
    "Import and memory save of data"
   ]
  },
  {
   "cell_type": "code",
   "execution_count": 11,
   "metadata": {},
   "outputs": [
    {
     "name": "stdout",
     "output_type": "stream",
     "text": [
      "Memory usage of dataframe is 0.09 MB\n",
      "Memory usage after optimization is: 0.04 MB\n",
      "Decreased by 60.2%\n"
     ]
    },
    {
     "data": {
      "text/plain": [
       "(134, 90)"
      ]
     },
     "execution_count": 11,
     "metadata": {},
     "output_type": "execute_result"
    }
   ],
   "source": [
    "def reduce_mem_usage(df):\n",
    "    \"\"\" iterate through all the columns of a dataframe and modify the data type\n",
    "        to reduce memory usage.        \n",
    "    \"\"\"\n",
    "    start_mem = df.memory_usage().sum() / 1024**2\n",
    "    print('Memory usage of dataframe is {:.2f} MB'.format(start_mem))\n",
    "    \n",
    "    for col in df.columns:\n",
    "        col_type = df[col].dtype\n",
    "        \n",
    "        if col_type != object:\n",
    "            c_min = df[col].min()\n",
    "            c_max = df[col].max()\n",
    "            if str(col_type)[:3] == 'int':\n",
    "                if c_min > np.iinfo(np.int8).min and c_max < np.iinfo(np.int8).max:\n",
    "                    df[col] = df[col].astype(np.int8)\n",
    "                elif c_min > np.iinfo(np.int16).min and c_max < np.iinfo(np.int16).max:\n",
    "                    df[col] = df[col].astype(np.int16)\n",
    "                elif c_min > np.iinfo(np.int32).min and c_max < np.iinfo(np.int32).max:\n",
    "                    df[col] = df[col].astype(np.int32)\n",
    "                elif c_min > np.iinfo(np.int64).min and c_max < np.iinfo(np.int64).max:\n",
    "                    df[col] = df[col].astype(np.int64)  \n",
    "            else:\n",
    "                if c_min > np.finfo(np.float16).min and c_max < np.finfo(np.float16).max:\n",
    "                    df[col] = df[col].astype(np.float16)\n",
    "                elif c_min > np.finfo(np.float32).min and c_max < np.finfo(np.float32).max:\n",
    "                    df[col] = df[col].astype(np.float32)\n",
    "                else:\n",
    "                    df[col] = df[col].astype(np.float64)\n",
    "        else:\n",
    "            df[col] = df[col].astype('category')\n",
    "\n",
    "    end_mem = df.memory_usage().sum() / 1024**2\n",
    "    print('Memory usage after optimization is: {:.2f} MB'.format(end_mem))\n",
    "    print('Decreased by {:.1f}%'.format(100 * (start_mem - end_mem) / start_mem))\n",
    "    \n",
    "    return df\n",
    "\n",
    "\n",
    "def import_data(file):\n",
    "    \"\"\"create a dataframe and optimize its memory usage\"\"\"\n",
    "    df = pd.read_csv(file, parse_dates=True, keep_date_col=True)\n",
    "    df = reduce_mem_usage(df)\n",
    "    return df\n",
    "\n",
    "import matplotlib.pyplot as plt\n",
    "import itertools\n",
    "def plot_confusion_matrix(cm, classes,\n",
    "                          normalize=True,\n",
    "                          title='Confusion matrix',\n",
    "                          cmap=plt.cm.Blues):\n",
    "    \"\"\"\n",
    "    This function prints and plots the confusion matrix.\n",
    "    Normalization can be applied by setting `normalize=True`.\n",
    "    \"\"\"\n",
    "    if normalize:\n",
    "        cm = cm.astype('float') / cm.sum(axis=1)[:, np.newaxis]\n",
    "        print(\"Normalized confusion matrix\")\n",
    "    else:\n",
    "        print('Confusion matrix, without normalization')\n",
    "\n",
    "    print(cm)\n",
    "\n",
    "    plt.imshow(cm, interpolation='nearest', cmap=cmap)\n",
    "    plt.title(title)\n",
    "    plt.colorbar()\n",
    "    tick_marks = np.arange(len(classes))\n",
    "    plt.xticks(tick_marks, classes, rotation=45)\n",
    "    plt.yticks(tick_marks, classes)\n",
    "\n",
    "    fmt = '.2f' if normalize else 'd'\n",
    "    thresh = cm.max() / 2.\n",
    "    for i, j in itertools.product(range(cm.shape[0]), range(cm.shape[1])):\n",
    "        plt.text(j, i, format(cm[i, j], fmt),\n",
    "                 horizontalalignment=\"center\",\n",
    "                 color=\"white\" if cm[i, j] > thresh else \"black\")\n",
    "\n",
    "    plt.ylabel('True label')\n",
    "    plt.xlabel('Predicted label')\n",
    "    plt.tight_layout()\n",
    "    \n",
    "\n",
    "df_train = import_data(\"input/train.csv\")\n",
    "df_train.shape"
   ]
  },
  {
   "cell_type": "code",
   "execution_count": 12,
   "metadata": {},
   "outputs": [
    {
     "data": {
      "text/html": [
       "<div>\n",
       "<style scoped>\n",
       "    .dataframe tbody tr th:only-of-type {\n",
       "        vertical-align: middle;\n",
       "    }\n",
       "\n",
       "    .dataframe tbody tr th {\n",
       "        vertical-align: top;\n",
       "    }\n",
       "\n",
       "    .dataframe thead th {\n",
       "        text-align: right;\n",
       "    }\n",
       "</style>\n",
       "<table border=\"1\" class=\"dataframe\">\n",
       "  <thead>\n",
       "    <tr style=\"text-align: right;\">\n",
       "      <th></th>\n",
       "      <th>score</th>\n",
       "    </tr>\n",
       "  </thead>\n",
       "  <tbody>\n",
       "    <tr>\n",
       "      <th>0</th>\n",
       "      <td>7.500000</td>\n",
       "    </tr>\n",
       "    <tr>\n",
       "      <th>1</th>\n",
       "      <td>6.062500</td>\n",
       "    </tr>\n",
       "    <tr>\n",
       "      <th>2</th>\n",
       "      <td>7.265625</td>\n",
       "    </tr>\n",
       "    <tr>\n",
       "      <th>3</th>\n",
       "      <td>7.781250</td>\n",
       "    </tr>\n",
       "    <tr>\n",
       "      <th>4</th>\n",
       "      <td>7.882812</td>\n",
       "    </tr>\n",
       "  </tbody>\n",
       "</table>\n",
       "</div>"
      ],
      "text/plain": [
       "      score\n",
       "0  7.500000\n",
       "1  6.062500\n",
       "2  7.265625\n",
       "3  7.781250\n",
       "4  7.882812"
      ]
     },
     "execution_count": 12,
     "metadata": {},
     "output_type": "execute_result"
    }
   ],
   "source": [
    "df_train.iloc[:, -1:].head()"
   ]
  },
  {
   "cell_type": "code",
   "execution_count": 13,
   "metadata": {},
   "outputs": [
    {
     "data": {
      "text/plain": [
       "array([[<Axes: title={'center': 'score'}>]], dtype=object)"
      ]
     },
     "execution_count": 13,
     "metadata": {},
     "output_type": "execute_result"
    },
    {
     "data": {
      "image/png": "[encoded data removed]",
      "text/plain": [
       "<Figure size 640x480 with 1 Axes>"
      ]
     },
     "metadata": {},
     "output_type": "display_data"
    }
   ],
   "source": [
    "df_train.hist(column=[\"score\"], bins=10)"
   ]
  },
  {
   "cell_type": "code",
   "execution_count": 14,
   "metadata": {},
   "outputs": [
    {
     "data": {
      "text/html": [
       "<div>\n",
       "<style scoped>\n",
       "    .dataframe tbody tr th:only-of-type {\n",
       "        vertical-align: middle;\n",
       "    }\n",
       "\n",
       "    .dataframe tbody tr th {\n",
       "        vertical-align: top;\n",
       "    }\n",
       "\n",
       "    .dataframe thead th {\n",
       "        text-align: right;\n",
       "    }\n",
       "</style>\n",
       "<table border=\"1\" class=\"dataframe\">\n",
       "  <thead>\n",
       "    <tr style=\"text-align: right;\">\n",
       "      <th></th>\n",
       "      <th>V1</th>\n",
       "      <th>V2</th>\n",
       "      <th>V3</th>\n",
       "      <th>V4</th>\n",
       "      <th>V5</th>\n",
       "      <th>V6</th>\n",
       "      <th>V7</th>\n",
       "      <th>V8</th>\n",
       "      <th>V9</th>\n",
       "      <th>V10</th>\n",
       "      <th>...</th>\n",
       "      <th>AU45_r</th>\n",
       "      <th>bvpMean</th>\n",
       "      <th>bvpSD</th>\n",
       "      <th>edaMean</th>\n",
       "      <th>edaSD</th>\n",
       "      <th>hrMean</th>\n",
       "      <th>hrSD</th>\n",
       "      <th>tempMean</th>\n",
       "      <th>tempSD</th>\n",
       "      <th>score</th>\n",
       "    </tr>\n",
       "  </thead>\n",
       "  <tbody>\n",
       "    <tr>\n",
       "      <th>0</th>\n",
       "      <td>0.000507</td>\n",
       "      <td>0.000714</td>\n",
       "      <td>0.000266</td>\n",
       "      <td>0.000714</td>\n",
       "      <td>0.000478</td>\n",
       "      <td>0.001634</td>\n",
       "      <td>0.009239</td>\n",
       "      <td>0.007120</td>\n",
       "      <td>0.005832</td>\n",
       "      <td>0.146200</td>\n",
       "      <td>...</td>\n",
       "      <td>0.918853</td>\n",
       "      <td>0.666975</td>\n",
       "      <td>0.341690</td>\n",
       "      <td>0.882477</td>\n",
       "      <td>0.271959</td>\n",
       "      <td>0.632997</td>\n",
       "      <td>0.175994</td>\n",
       "      <td>0.711684</td>\n",
       "      <td>0.054265</td>\n",
       "      <td>7.500000</td>\n",
       "    </tr>\n",
       "    <tr>\n",
       "      <th>1</th>\n",
       "      <td>0.143085</td>\n",
       "      <td>0.083410</td>\n",
       "      <td>0.064634</td>\n",
       "      <td>0.010533</td>\n",
       "      <td>0.017703</td>\n",
       "      <td>0.006685</td>\n",
       "      <td>0.004200</td>\n",
       "      <td>0.005426</td>\n",
       "      <td>0.001433</td>\n",
       "      <td>0.008853</td>\n",
       "      <td>...</td>\n",
       "      <td>0.632334</td>\n",
       "      <td>0.139620</td>\n",
       "      <td>0.343151</td>\n",
       "      <td>0.280929</td>\n",
       "      <td>0.563011</td>\n",
       "      <td>0.469697</td>\n",
       "      <td>0.377564</td>\n",
       "      <td>0.100152</td>\n",
       "      <td>0.023574</td>\n",
       "      <td>6.062500</td>\n",
       "    </tr>\n",
       "    <tr>\n",
       "      <th>2</th>\n",
       "      <td>0.002079</td>\n",
       "      <td>0.002041</td>\n",
       "      <td>0.000607</td>\n",
       "      <td>0.002931</td>\n",
       "      <td>0.004088</td>\n",
       "      <td>0.001848</td>\n",
       "      <td>0.001417</td>\n",
       "      <td>0.003054</td>\n",
       "      <td>0.001900</td>\n",
       "      <td>0.002745</td>\n",
       "      <td>...</td>\n",
       "      <td>0.895811</td>\n",
       "      <td>0.055099</td>\n",
       "      <td>0.032599</td>\n",
       "      <td>0.322914</td>\n",
       "      <td>0.703219</td>\n",
       "      <td>0.427609</td>\n",
       "      <td>0.686503</td>\n",
       "      <td>0.121396</td>\n",
       "      <td>0.086129</td>\n",
       "      <td>7.265625</td>\n",
       "    </tr>\n",
       "    <tr>\n",
       "      <th>3</th>\n",
       "      <td>0.029038</td>\n",
       "      <td>0.014249</td>\n",
       "      <td>0.013248</td>\n",
       "      <td>0.030746</td>\n",
       "      <td>0.012141</td>\n",
       "      <td>0.046795</td>\n",
       "      <td>0.037375</td>\n",
       "      <td>0.023519</td>\n",
       "      <td>0.028913</td>\n",
       "      <td>0.035735</td>\n",
       "      <td>...</td>\n",
       "      <td>0.341056</td>\n",
       "      <td>0.002188</td>\n",
       "      <td>0.003199</td>\n",
       "      <td>0.291465</td>\n",
       "      <td>0.000000</td>\n",
       "      <td>0.180135</td>\n",
       "      <td>0.078121</td>\n",
       "      <td>0.420334</td>\n",
       "      <td>0.241458</td>\n",
       "      <td>7.781250</td>\n",
       "    </tr>\n",
       "    <tr>\n",
       "      <th>4</th>\n",
       "      <td>0.016300</td>\n",
       "      <td>0.019692</td>\n",
       "      <td>0.005846</td>\n",
       "      <td>0.027291</td>\n",
       "      <td>0.014478</td>\n",
       "      <td>0.052417</td>\n",
       "      <td>0.045000</td>\n",
       "      <td>0.026698</td>\n",
       "      <td>0.024078</td>\n",
       "      <td>0.031235</td>\n",
       "      <td>...</td>\n",
       "      <td>0.092856</td>\n",
       "      <td>0.046613</td>\n",
       "      <td>0.036844</td>\n",
       "      <td>0.428474</td>\n",
       "      <td>0.543917</td>\n",
       "      <td>0.385522</td>\n",
       "      <td>0.390225</td>\n",
       "      <td>0.283763</td>\n",
       "      <td>0.032699</td>\n",
       "      <td>7.882812</td>\n",
       "    </tr>\n",
       "  </tbody>\n",
       "</table>\n",
       "<p>5 rows × 90 columns</p>\n",
       "</div>"
      ],
      "text/plain": [
       "         V1        V2        V3        V4        V5        V6        V7  \\\n",
       "0  0.000507  0.000714  0.000266  0.000714  0.000478  0.001634  0.009239   \n",
       "1  0.143085  0.083410  0.064634  0.010533  0.017703  0.006685  0.004200   \n",
       "2  0.002079  0.002041  0.000607  0.002931  0.004088  0.001848  0.001417   \n",
       "3  0.029038  0.014249  0.013248  0.030746  0.012141  0.046795  0.037375   \n",
       "4  0.016300  0.019692  0.005846  0.027291  0.014478  0.052417  0.045000   \n",
       "\n",
       "         V8        V9       V10  ...    AU45_r   bvpMean     bvpSD   edaMean  \\\n",
       "0  0.007120  0.005832  0.146200  ...  0.918853  0.666975  0.341690  0.882477   \n",
       "1  0.005426  0.001433  0.008853  ...  0.632334  0.139620  0.343151  0.280929   \n",
       "2  0.003054  0.001900  0.002745  ...  0.895811  0.055099  0.032599  0.322914   \n",
       "3  0.023519  0.028913  0.035735  ...  0.341056  0.002188  0.003199  0.291465   \n",
       "4  0.026698  0.024078  0.031235  ...  0.092856  0.046613  0.036844  0.428474   \n",
       "\n",
       "      edaSD    hrMean      hrSD  tempMean    tempSD     score  \n",
       "0  0.271959  0.632997  0.175994  0.711684  0.054265  7.500000  \n",
       "1  0.563011  0.469697  0.377564  0.100152  0.023574  6.062500  \n",
       "2  0.703219  0.427609  0.686503  0.121396  0.086129  7.265625  \n",
       "3  0.000000  0.180135  0.078121  0.420334  0.241458  7.781250  \n",
       "4  0.543917  0.385522  0.390225  0.283763  0.032699  7.882812  \n",
       "\n",
       "[5 rows x 90 columns]"
      ]
     },
     "execution_count": 14,
     "metadata": {},
     "output_type": "execute_result"
    }
   ],
   "source": [
    "from sklearn import preprocessing\n",
    "xp = df_train.copy()\n",
    "min_max_scaler = preprocessing.MinMaxScaler()\n",
    "xp.iloc[:,0:-1] = min_max_scaler.fit_transform(xp.iloc[:,0:-1].to_numpy())\n",
    "xp.head()\n"
   ]
  },
  {
   "cell_type": "code",
   "execution_count": 15,
   "metadata": {},
   "outputs": [],
   "source": [
    "y = df_train.iloc[:, -1:]\n",
    "df_train = xp.iloc[:, 0:-1]"
   ]
  },
  {
   "cell_type": "code",
   "execution_count": 16,
   "metadata": {},
   "outputs": [
    {
     "name": "stderr",
     "output_type": "stream",
     "text": [
      "C:\\Users\\baryd\\AppData\\Local\\Temp\\ipykernel_24668\\1691221361.py:7: TqdmDeprecationWarning: This function will be removed in tqdm==5.0.0\n",
      "Please use `tqdm.notebook.tqdm` instead of `tqdm.tqdm_notebook`\n",
      "  for f in tqdm(lista):\n"
     ]
    },
    {
     "data": {
      "application/vnd.jupyter.widget-view+json": {
       "model_id": "0ecdf998973a4168b2057f8a626d72f3",
       "version_major": 2,
       "version_minor": 0
      },
      "text/plain": [
       "  0%|          | 0/89 [00:00<?, ?it/s]"
      ]
     },
     "metadata": {},
     "output_type": "display_data"
    }
   ],
   "source": [
    "from sklearn.decomposition import PCA\n",
    "import matplotlib.pyplot as plt\n",
    "%matplotlib inline\n",
    "lista = range(1,90)\n",
    "aa=[]\n",
    "bb=[]\n",
    "for f in tqdm(lista):\n",
    "    aa.append(f)\n",
    "    pca = PCA(n_components=f).fit(df_train)\n",
    "    \n",
    "a = 0\n",
    "for e in lista:\n",
    "    a=a+pca.explained_variance_ratio_[e-1]\n",
    "    bb.append(a)"
   ]
  },
  {
   "cell_type": "code",
   "execution_count": 17,
   "metadata": {},
   "outputs": [
    {
     "data": {
      "image/png": "[encoded data removed]",
      "text/plain": [
       "<Figure size 1000x600 with 1 Axes>"
      ]
     },
     "metadata": {},
     "output_type": "display_data"
    }
   ],
   "source": [
    "fig, ax = plt.subplots(figsize = (10,6))\n",
    "plot = plt.plot(aa, bb, '-o')\n",
    "ax.set_xlabel(\"Dimensions\")\n",
    "ax.set_ylabel(\"Variance_ratio\"); "
   ]
  },
  {
   "cell_type": "code",
   "execution_count": 18,
   "metadata": {},
   "outputs": [
    {
     "name": "stdout",
     "output_type": "stream",
     "text": [
      "0.9717604327015579\n"
     ]
    }
   ],
   "source": [
    "# Apply PCA for dimension reduction\n",
    "pca = PCA(n_components=20).fit(df_train)\n",
    "X_pca = pca.transform(df_train)\n",
    "print(sum(pca.explained_variance_ratio_))"
   ]
  },
  {
   "cell_type": "markdown",
   "metadata": {},
   "source": [
    "Model Training"
   ]
  },
  {
   "cell_type": "code",
   "execution_count": 19,
   "metadata": {},
   "outputs": [],
   "source": [
    "from sklearn.model_selection import train_test_split\n",
    "X_train, X_val, y_train, y_val = train_test_split(X_pca, y, test_size = 0.2)"
   ]
  },
  {
   "cell_type": "code",
   "execution_count": 20,
   "metadata": {},
   "outputs": [],
   "source": [
    "from sklearn.metrics import accuracy_score\n",
    "from xgboost import XGBRegressor\n",
    "\n",
    "\n",
    "\n",
    "XGB = XGBRegressor()"
   ]
  },
  {
   "cell_type": "code",
   "execution_count": 21,
   "metadata": {},
   "outputs": [
    {
     "name": "stdout",
     "output_type": "stream",
     "text": [
      "0.3189443\n"
     ]
    }
   ],
   "source": [
    "from sklearn.metrics import mean_squared_error\n",
    "XGB.fit(X_train,y_train)\n",
    "y_pred = XGB.predict(X_val)\n",
    "mse = mean_squared_error(y_val, y_pred)\n",
    "print(mse)"
   ]
  },
  {
   "cell_type": "markdown",
   "metadata": {},
   "source": []
  }
 ],
 "metadata": {
  "kernelspec": {
   "display_name": "TDT4173",
   "language": "python",
   "name": "python3"
  },
  "language_info": {
   "codemirror_mode": {
    "name": "ipython",
    "version": 3
   },
   "file_extension": ".py",
   "mimetype": "text/x-python",
   "name": "python",
   "nbconvert_exporter": "python",
   "pygments_lexer": "ipython3",
   "version": "3.10.12"
  }
 },
 "nbformat": 4,
 "nbformat_minor": 2
}
